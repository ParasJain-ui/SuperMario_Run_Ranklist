{
 "cells": [
  {
   "cell_type": "code",
   "execution_count": 9,
   "id": "b32e576d",
   "metadata": {},
   "outputs": [
    {
     "data": {
      "text/html": [
       "<div>\n",
       "<style scoped>\n",
       "    .dataframe tbody tr th:only-of-type {\n",
       "        vertical-align: middle;\n",
       "    }\n",
       "\n",
       "    .dataframe tbody tr th {\n",
       "        vertical-align: top;\n",
       "    }\n",
       "\n",
       "    .dataframe thead th {\n",
       "        text-align: right;\n",
       "    }\n",
       "</style>\n",
       "<table border=\"1\" class=\"dataframe\">\n",
       "  <thead>\n",
       "    <tr style=\"text-align: right;\">\n",
       "      <th></th>\n",
       "      <th>Name</th>\n",
       "      <th>Roll No.</th>\n",
       "      <th>Codeforces Handle</th>\n",
       "      <th>Questions_Solved</th>\n",
       "      <th>ratings</th>\n",
       "    </tr>\n",
       "  </thead>\n",
       "  <tbody>\n",
       "    <tr>\n",
       "      <th>0</th>\n",
       "      <td>Surendra Singh</td>\n",
       "      <td>B19120</td>\n",
       "      <td>The_Invisible_LGM</td>\n",
       "      <td>239</td>\n",
       "      <td>1678</td>\n",
       "    </tr>\n",
       "    <tr>\n",
       "      <th>1</th>\n",
       "      <td>Sumit Kumar</td>\n",
       "      <td>B19118</td>\n",
       "      <td>sumitkumar261</td>\n",
       "      <td>235</td>\n",
       "      <td>1437</td>\n",
       "    </tr>\n",
       "    <tr>\n",
       "      <th>2</th>\n",
       "      <td>Ujjwal Rana</td>\n",
       "      <td>B19201</td>\n",
       "      <td>Perpetually_Purple</td>\n",
       "      <td>234</td>\n",
       "      <td>1841</td>\n",
       "    </tr>\n",
       "    <tr>\n",
       "      <th>3</th>\n",
       "      <td>Manan Shah</td>\n",
       "      <td>b19042</td>\n",
       "      <td>Manan_shah</td>\n",
       "      <td>196</td>\n",
       "      <td>1364</td>\n",
       "    </tr>\n",
       "    <tr>\n",
       "      <th>4</th>\n",
       "      <td>Abhay Singh Raihal</td>\n",
       "      <td>B20144</td>\n",
       "      <td>yooy</td>\n",
       "      <td>183</td>\n",
       "      <td>1163</td>\n",
       "    </tr>\n",
       "    <tr>\n",
       "      <th>...</th>\n",
       "      <td>...</td>\n",
       "      <td>...</td>\n",
       "      <td>...</td>\n",
       "      <td>...</td>\n",
       "      <td>...</td>\n",
       "    </tr>\n",
       "    <tr>\n",
       "      <th>91</th>\n",
       "      <td>ritik</td>\n",
       "      <td>b21220</td>\n",
       "      <td>HYDRA_RITIK</td>\n",
       "      <td>0</td>\n",
       "      <td>0</td>\n",
       "    </tr>\n",
       "    <tr>\n",
       "      <th>92</th>\n",
       "      <td>Shreya Aggarwal</td>\n",
       "      <td>B19115</td>\n",
       "      <td>shreyaagg</td>\n",
       "      <td>0</td>\n",
       "      <td>0</td>\n",
       "    </tr>\n",
       "    <tr>\n",
       "      <th>93</th>\n",
       "      <td>Lavish</td>\n",
       "      <td>B20113</td>\n",
       "      <td>lavish_2002</td>\n",
       "      <td>0</td>\n",
       "      <td>0</td>\n",
       "    </tr>\n",
       "    <tr>\n",
       "      <th>94</th>\n",
       "      <td>Vinay Faria</td>\n",
       "      <td>T21006</td>\n",
       "      <td>vinayfaria</td>\n",
       "      <td>0</td>\n",
       "      <td>0</td>\n",
       "    </tr>\n",
       "    <tr>\n",
       "      <th>95</th>\n",
       "      <td>Aryan Ali</td>\n",
       "      <td>B20279</td>\n",
       "      <td>b20279</td>\n",
       "      <td>0</td>\n",
       "      <td>0</td>\n",
       "    </tr>\n",
       "  </tbody>\n",
       "</table>\n",
       "<p>96 rows × 5 columns</p>\n",
       "</div>"
      ],
      "text/plain": [
       "                  Name Roll No.   Codeforces Handle  Questions_Solved  ratings\n",
       "0       Surendra Singh   B19120   The_Invisible_LGM               239     1678\n",
       "1          Sumit Kumar   B19118       sumitkumar261               235     1437\n",
       "2          Ujjwal Rana   B19201  Perpetually_Purple               234     1841\n",
       "3           Manan Shah   b19042          Manan_shah               196     1364\n",
       "4   Abhay Singh Raihal   B20144                yooy               183     1163\n",
       "..                 ...      ...                 ...               ...      ...\n",
       "91               ritik   b21220         HYDRA_RITIK                 0        0\n",
       "92     Shreya Aggarwal   B19115           shreyaagg                 0        0\n",
       "93              Lavish   B20113         lavish_2002                 0        0\n",
       "94         Vinay Faria   T21006          vinayfaria                 0        0\n",
       "95           Aryan Ali   B20279              b20279                 0        0\n",
       "\n",
       "[96 rows x 5 columns]"
      ]
     },
     "execution_count": 9,
     "metadata": {},
     "output_type": "execute_result"
    }
   ],
   "source": [
    "import pandas\n",
    "data = pandas.read_csv(\"handles\")\n",
    "data"
   ]
  },
  {
   "cell_type": "code",
   "execution_count": 7,
   "id": "f5a72240",
   "metadata": {},
   "outputs": [],
   "source": [
    "# data.drop(['Unnamed: 0.1.1.1.1.1', 'Unnamed: 0.1.1.1.1.1.1' ], inplace = True, axis = 1)"
   ]
  },
  {
   "cell_type": "code",
   "execution_count": 8,
   "id": "df3f0ff3",
   "metadata": {},
   "outputs": [],
   "source": [
    "data = data.sort_values('Questions_Solved', ascending = False)\n",
    "data.to_csv(\"handles\", index = False)\n"
   ]
  },
  {
   "cell_type": "code",
   "execution_count": null,
   "id": "8d57a10f",
   "metadata": {},
   "outputs": [
    {
     "name": "stderr",
     "output_type": "stream",
     "text": [
      "<ipython-input-8-3df985ce2df3>:15: SettingWithCopyWarning: \n",
      "A value is trying to be set on a copy of a slice from a DataFrame\n",
      "\n",
      "See the caveats in the documentation: https://pandas.pydata.org/pandas-docs/stable/user_guide/indexing.html#returning-a-view-versus-a-copy\n",
      "  data[\"ratings\"][i] = json_data[\"result\"][0][\"rating\"]\n"
     ]
    }
   ],
   "source": [
    "import pandas\n",
    "import requests as re\n",
    "proxy = {\n",
    "'http' : '',\n",
    "'https' : ''\n",
    "}\n",
    "data = pandas.read_csv(\"handles\")\n",
    "data[\"ratings\"] = 0\n",
    "i = 0;\n",
    "for handle_name in data[\"Codeforces Handle\"]:\n",
    "#     url = \"https://codeforces.com/api/user.info?handles=\"+handle_name\n",
    "    r = re.get(url, proxies=proxy)\n",
    "    json_data = r. json()\n",
    "    try:\n",
    "        data[\"ratings\"][i] = json_data[\"result\"][0][\"rating\"]\n",
    "    except:\n",
    "        pass\n",
    "    i += 1"
   ]
  },
  {
   "cell_type": "code",
   "execution_count": 3,
   "id": "079c67a5",
   "metadata": {},
   "outputs": [
    {
     "ename": "NameError",
     "evalue": "name 'proxy' is not defined",
     "output_type": "error",
     "traceback": [
      "\u001b[0;31m---------------------------------------------------------------------------\u001b[0m",
      "\u001b[0;31mNameError\u001b[0m                                 Traceback (most recent call last)",
      "\u001b[0;32m<ipython-input-3-dc908965c121>\u001b[0m in \u001b[0;36m<module>\u001b[0;34m\u001b[0m\n\u001b[1;32m      1\u001b[0m \u001b[0;32mimport\u001b[0m \u001b[0mrequests\u001b[0m \u001b[0;32mas\u001b[0m \u001b[0mre\u001b[0m\u001b[0;34m\u001b[0m\u001b[0;34m\u001b[0m\u001b[0m\n\u001b[1;32m      2\u001b[0m \u001b[0murl\u001b[0m \u001b[0;34m=\u001b[0m \u001b[0;34m\"https://codeforces.com/api/user.status?handle=\"\u001b[0m\u001b[0;34m+\u001b[0m\u001b[0;34m\"Paras_jain\"\u001b[0m\u001b[0;34m+\u001b[0m\u001b[0;34m\"&from=1&count=100000\"\u001b[0m\u001b[0;34m\u001b[0m\u001b[0;34m\u001b[0m\u001b[0m\n\u001b[0;32m----> 3\u001b[0;31m \u001b[0mr\u001b[0m \u001b[0;34m=\u001b[0m \u001b[0mre\u001b[0m\u001b[0;34m.\u001b[0m\u001b[0mget\u001b[0m\u001b[0;34m(\u001b[0m\u001b[0murl\u001b[0m\u001b[0;34m,\u001b[0m \u001b[0mproxies\u001b[0m\u001b[0;34m=\u001b[0m\u001b[0mproxy\u001b[0m\u001b[0;34m)\u001b[0m\u001b[0;34m\u001b[0m\u001b[0;34m\u001b[0m\u001b[0m\n\u001b[0m\u001b[1;32m      4\u001b[0m \u001b[0mjson_data\u001b[0m \u001b[0;34m=\u001b[0m \u001b[0mr\u001b[0m\u001b[0;34m.\u001b[0m \u001b[0mjson\u001b[0m\u001b[0;34m(\u001b[0m\u001b[0;34m)\u001b[0m\u001b[0;34m\u001b[0m\u001b[0;34m\u001b[0m\u001b[0m\n\u001b[1;32m      5\u001b[0m \u001b[0mjson_data\u001b[0m\u001b[0;34m[\u001b[0m\u001b[0;34m\"result\"\u001b[0m\u001b[0;34m]\u001b[0m\u001b[0;34m[\u001b[0m\u001b[0mj\u001b[0m\u001b[0;34m]\u001b[0m\u001b[0;34m[\u001b[0m\u001b[0;34m\"creationTimeSeconds\"\u001b[0m\u001b[0;34m]\u001b[0m\u001b[0;34m>=\u001b[0m\u001b[0;36m1643932800\u001b[0m\u001b[0;34m\u001b[0m\u001b[0;34m\u001b[0m\u001b[0m\n",
      "\u001b[0;31mNameError\u001b[0m: name 'proxy' is not defined"
     ]
    }
   ],
   "source": [
    "import requests as re\n",
    "url = \"https://codeforces.com/api/user.status?handle=\"+\"Paras_jain\"+\"&from=1&count=100000\"\n",
    "proxy = {\n",
    "'http' : '',\n",
    "'https' : ''\n",
    "}\n",
    "r = re.get(url, proxies=proxy)\n",
    "json_data = r. json()\n",
    "json_data[\"result\"][j][\"creationTimeSeconds\"]>=1643932800"
   ]
  },
  {
   "cell_type": "code",
   "execution_count": null,
   "id": "a37b6e19",
   "metadata": {},
   "outputs": [],
   "source": []
  }
 ],
 "metadata": {
  "interpreter": {
   "hash": "916dbcbb3f70747c44a77c7bcd40155683ae19c65e1c03b4aa3499c5328201f1"
  },
  "kernelspec": {
   "display_name": "Python 3.8.10 64-bit",
   "name": "python3"
  },
  "language_info": {
   "codemirror_mode": {
    "name": "ipython",
    "version": 3
   },
   "file_extension": ".py",
   "mimetype": "text/x-python",
   "name": "python",
   "nbconvert_exporter": "python",
   "pygments_lexer": "ipython3",
   "version": "3.8.10"
  }
 },
 "nbformat": 4,
 "nbformat_minor": 5
}
