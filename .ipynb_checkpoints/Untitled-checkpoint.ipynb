{
 "cells": [
  {
   "cell_type": "code",
   "execution_count": 1,
   "id": "fd2f5798",
   "metadata": {},
   "outputs": [],
   "source": [
    "import pandas"
   ]
  },
  {
   "cell_type": "code",
   "execution_count": 2,
   "id": "140a33be",
   "metadata": {},
   "outputs": [],
   "source": [
    "data = pandas.read_csv(\"handles\")"
   ]
  },
  {
   "cell_type": "code",
   "execution_count": 3,
   "id": "56e8cfec",
   "metadata": {},
   "outputs": [],
   "source": [
    "data.drop('Timestamp', inplace = True, axis = 1)"
   ]
  },
  {
   "cell_type": "code",
   "execution_count": 4,
   "id": "35300587",
   "metadata": {},
   "outputs": [],
   "source": [
    "data.drop('Email Address', inplace = True, axis = 1)"
   ]
  },
  {
   "cell_type": "code",
   "execution_count": 5,
   "id": "3b3a7133",
   "metadata": {},
   "outputs": [
    {
     "data": {
      "text/html": [
       "<div>\n",
       "<style scoped>\n",
       "    .dataframe tbody tr th:only-of-type {\n",
       "        vertical-align: middle;\n",
       "    }\n",
       "\n",
       "    .dataframe tbody tr th {\n",
       "        vertical-align: top;\n",
       "    }\n",
       "\n",
       "    .dataframe thead th {\n",
       "        text-align: right;\n",
       "    }\n",
       "</style>\n",
       "<table border=\"1\" class=\"dataframe\">\n",
       "  <thead>\n",
       "    <tr style=\"text-align: right;\">\n",
       "      <th></th>\n",
       "      <th>Name</th>\n",
       "      <th>Roll No.</th>\n",
       "      <th>Codeforces Handle</th>\n",
       "    </tr>\n",
       "  </thead>\n",
       "  <tbody>\n",
       "    <tr>\n",
       "      <th>0</th>\n",
       "      <td>Vivek Moar</td>\n",
       "      <td>B18037</td>\n",
       "      <td>404_HandleNotFound</td>\n",
       "    </tr>\n",
       "    <tr>\n",
       "      <th>1</th>\n",
       "      <td>Anam Siddiqui</td>\n",
       "      <td>B18046</td>\n",
       "      <td>anam09</td>\n",
       "    </tr>\n",
       "    <tr>\n",
       "      <th>2</th>\n",
       "      <td>Sachit Batra</td>\n",
       "      <td>b18137</td>\n",
       "      <td>Sachit_Batra</td>\n",
       "    </tr>\n",
       "    <tr>\n",
       "      <th>3</th>\n",
       "      <td>Sanskar gupta</td>\n",
       "      <td>B18140</td>\n",
       "      <td>Unpossible</td>\n",
       "    </tr>\n",
       "    <tr>\n",
       "      <th>4</th>\n",
       "      <td>Saksham</td>\n",
       "      <td>B18190</td>\n",
       "      <td>saksham199</td>\n",
       "    </tr>\n",
       "    <tr>\n",
       "      <th>...</th>\n",
       "      <td>...</td>\n",
       "      <td>...</td>\n",
       "      <td>...</td>\n",
       "    </tr>\n",
       "    <tr>\n",
       "      <th>91</th>\n",
       "      <td>Smiti</td>\n",
       "      <td>b21137</td>\n",
       "      <td>smitioswal</td>\n",
       "    </tr>\n",
       "    <tr>\n",
       "      <th>92</th>\n",
       "      <td>Sarvesh Jadhav</td>\n",
       "      <td>B21193</td>\n",
       "      <td>Sarvesh43</td>\n",
       "    </tr>\n",
       "    <tr>\n",
       "      <th>93</th>\n",
       "      <td>ritik</td>\n",
       "      <td>b21220</td>\n",
       "      <td>HYDRA_RITIK</td>\n",
       "    </tr>\n",
       "    <tr>\n",
       "      <th>94</th>\n",
       "      <td>Arvasu Kulkarni</td>\n",
       "      <td>B21245</td>\n",
       "      <td>CodingFish</td>\n",
       "    </tr>\n",
       "    <tr>\n",
       "      <th>95</th>\n",
       "      <td>Vinay Faria</td>\n",
       "      <td>T21006</td>\n",
       "      <td>vinayfaria</td>\n",
       "    </tr>\n",
       "  </tbody>\n",
       "</table>\n",
       "<p>96 rows × 3 columns</p>\n",
       "</div>"
      ],
      "text/plain": [
       "               Name Roll No.   Codeforces Handle\n",
       "0        Vivek Moar   B18037  404_HandleNotFound\n",
       "1     Anam Siddiqui   B18046              anam09\n",
       "2      Sachit Batra   b18137        Sachit_Batra\n",
       "3     Sanskar gupta   B18140          Unpossible\n",
       "4           Saksham   B18190          saksham199\n",
       "..              ...      ...                 ...\n",
       "91            Smiti   b21137          smitioswal\n",
       "92   Sarvesh Jadhav   B21193           Sarvesh43\n",
       "93            ritik   b21220         HYDRA_RITIK\n",
       "94  Arvasu Kulkarni   B21245          CodingFish\n",
       "95      Vinay Faria   T21006          vinayfaria\n",
       "\n",
       "[96 rows x 3 columns]"
      ]
     },
     "execution_count": 5,
     "metadata": {},
     "output_type": "execute_result"
    }
   ],
   "source": [
    "data.to_csv()"
   ]
  },
  {
   "cell_type": "code",
   "execution_count": null,
   "id": "36d1eefe",
   "metadata": {},
   "outputs": [],
   "source": []
  }
 ],
 "metadata": {
  "kernelspec": {
   "display_name": "Python 3",
   "language": "python",
   "name": "python3"
  },
  "language_info": {
   "codemirror_mode": {
    "name": "ipython",
    "version": 3
   },
   "file_extension": ".py",
   "mimetype": "text/x-python",
   "name": "python",
   "nbconvert_exporter": "python",
   "pygments_lexer": "ipython3",
   "version": "3.8.10"
  }
 },
 "nbformat": 4,
 "nbformat_minor": 5
}
